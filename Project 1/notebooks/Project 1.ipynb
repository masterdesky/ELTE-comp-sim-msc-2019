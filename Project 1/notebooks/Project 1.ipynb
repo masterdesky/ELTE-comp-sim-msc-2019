{
 "cells": [
  {
   "cell_type": "markdown",
   "metadata": {},
   "source": [
    "# Computer Simulations - Project 1. @ ELTE\n",
    "# N-body problem of satellite formation and clustering of planetary debris inside an asteroid belt"
   ]
  },
  {
   "cell_type": "code",
   "execution_count": 2,
   "metadata": {},
   "outputs": [],
   "source": [
    "import os\n",
    "import random\n",
    "import numpy as np\n",
    "\n",
    "import seaborn as sns\n",
    "import matplotlib as mpl\n",
    "import matplotlib.cm as cm\n",
    "import matplotlib.pyplot as plt\n",
    "from matplotlib.patches import Circle\n",
    "\n",
    "from IPython.display import clear_output, display"
   ]
  },
  {
   "cell_type": "markdown",
   "metadata": {},
   "source": [
    "## Configure matplotlib and seaborn parameters"
   ]
  },
  {
   "cell_type": "code",
   "execution_count": 3,
   "metadata": {},
   "outputs": [],
   "source": [
    "# Set axtick dimensions\n",
    "major_size = 6\n",
    "major_width = 1.2\n",
    "minor_size = 3\n",
    "minor_width = 1\n",
    "mpl.rcParams['xtick.major.size'] = major_size\n",
    "mpl.rcParams['xtick.major.width'] = major_width\n",
    "mpl.rcParams['xtick.minor.size'] = minor_size\n",
    "mpl.rcParams['xtick.minor.width'] = minor_width\n",
    "mpl.rcParams['ytick.major.size'] = major_size\n",
    "mpl.rcParams['ytick.major.width'] = major_width\n",
    "mpl.rcParams['ytick.minor.size'] = minor_size\n",
    "mpl.rcParams['ytick.minor.width'] = minor_width\n",
    "\n",
    "# Seaborn style settings\n",
    "sns.set_style({'axes.axisbelow': True,\n",
    "               'axes.edgecolor': '.8',\n",
    "               'axes.facecolor': 'white',\n",
    "               'axes.grid': True,\n",
    "               'axes.labelcolor': '.15',\n",
    "               'axes.spines.bottom': True,\n",
    "               'axes.spines.left': True,\n",
    "               'axes.spines.right': True,\n",
    "               'axes.spines.top': True,\n",
    "               'figure.facecolor': 'white',\n",
    "               'font.family': ['sans-serif'],\n",
    "               'font.sans-serif': ['Arial',\n",
    "                'DejaVu Sans',\n",
    "                'Liberation Sans',\n",
    "                'Bitstream Vera Sans',\n",
    "                'sans-serif'],\n",
    "               'grid.color': '.8',\n",
    "               'grid.linestyle': '--',\n",
    "               'image.cmap': 'rocket',\n",
    "               'lines.solid_capstyle': 'round',\n",
    "               'patch.edgecolor': 'w',\n",
    "               'patch.force_edgecolor': True,\n",
    "               'text.color': '.15',\n",
    "               'xtick.bottom': True,\n",
    "               'xtick.color': '.15',\n",
    "               'xtick.direction': 'in',\n",
    "               'xtick.top': True,\n",
    "               'ytick.color': '.15',\n",
    "               'ytick.direction': 'in',\n",
    "               'ytick.left': True,\n",
    "               'ytick.right': True})"
   ]
  },
  {
   "cell_type": "code",
   "execution_count": 4,
   "metadata": {},
   "outputs": [],
   "source": [
    "# [Mass in kg |\n",
    "#  Distance from central celestail body in AU |\n",
    "#  eccentricity |\n",
    "#  Size in AU]\n",
    "Planets={\n",
    "    'Sun': [1.989e30, 0, 0.0001, 4.649e-03],\n",
    "    'Moon': [7.348e22, 0.00257, 0.0549, 1.161e-05],\n",
    "    'Mercury': [3.285e23, 0.466697, 0.205630, 1.631e-05],\n",
    "    'Venus': [4.867e24, 0.728213, 0.006772, 4.045e-05],\n",
    "    'Earth': [5.972e24, 1.017, 0.0167086, 4.259e-05],\n",
    "    'Mars': [6.39e23, 1.666, 0.0934, 2.266e-05],\n",
    "    'Jupiter': [1.898e27, 5.4588, 0.0489, 4.673e-04],\n",
    "    'Saturn': [5.683e26, 10.1238, 0.0565, 3.893e-04],\n",
    "    'Uranus': [8.681e25, 20.11, 0.046381, 1.695e-04],\n",
    "    'Neptune': [1.024e26, 30.33, 0.009456, 1.646e-04],\n",
    "    'Pluto': [1.309e22, 49.305, 0.2488, 7.954e-06],\n",
    "    'Halley': [2.2e14, 35.082, 0.96714, 3.68e-08]\n",
    "}\n",
    "\n",
    "Planet_Colors={\n",
    "    'Sun': np.array([216, 148, 29])/255,\n",
    "    'Moon': np.array([204, 198, 195])/255,\n",
    "    'Mercury': np.array([186, 186, 186])/255,\n",
    "    'Venus': np.array([216, 194, 153])/255,\n",
    "    'Earth': np.array([45, 52, 130])/255,\n",
    "    'Mars': np.array([217, 120, 62])/255,\n",
    "    'Jupiter': np.array([187, 155, 99])/255,\n",
    "    'Saturn': np.array([222, 181, 82])/255,\n",
    "    'Uranus': np.array([201, 239, 241])/255,\n",
    "    'Neptune': np.array([72, 120, 242])/255,\n",
    "    'Pluto': np.array([65, 25, 20])/255,\n",
    "    'Halley': np.array([0,0,0])/255\n",
    "}"
   ]
  },
  {
   "cell_type": "markdown",
   "metadata": {},
   "source": [
    "## Generating small bodies"
   ]
  },
  {
   "cell_type": "code",
   "execution_count": 5,
   "metadata": {},
   "outputs": [],
   "source": [
    "def sign_choose():\n",
    "    return -1 if random.random() < 0.5 else 1"
   ]
  },
  {
   "cell_type": "code",
   "execution_count": 79,
   "metadata": {},
   "outputs": [],
   "source": [
    "n_bodies = 50\n",
    "coordinates_array = np.zeros((half_number_of_bodies, 2))\n",
    "\n"
   ]
  },
  {
   "cell_type": "code",
   "execution_count": 259,
   "metadata": {},
   "outputs": [],
   "source": [
    "dr = 0.1\n",
    "R = 1.5\n",
    "# Eccentricity of asteroids\n",
    "# Io's eccentricity for reference and test\n",
    "e = 0.0041\n",
    "\n",
    "a = Planets['Jupiter'][3] * (R + np.random.rand() * dr)\n",
    "b = \n",
    "# c = sqrt(a^2 - b^2)\n",
    "# --> e = c/a = sqrt(1 - (b/a)^2)\n",
    "c = np.sqrt(a**2 - b**2)\n",
    "\n",
    "x_coord = \n",
    "y_coord = b/np.abs(x_coord) * np.sqrt(np.abs(x_coord)**2 - )"
   ]
  },
  {
   "cell_type": "code",
   "execution_count": null,
   "metadata": {},
   "outputs": [],
   "source": []
  },
  {
   "cell_type": "code",
   "execution_count": 285,
   "metadata": {},
   "outputs": [
    {
     "data": {
      "text/plain": [
       "3329.893489695635"
      ]
     },
     "execution_count": 285,
     "metadata": {},
     "output_type": "execute_result"
    }
   ],
   "source": [
    "np.random.rand(, 1/Planets['Jupiter'][3] * (R + np.random.rand() * dr))"
   ]
  },
  {
   "cell_type": "code",
   "execution_count": null,
   "metadata": {},
   "outputs": [],
   "source": []
  },
  {
   "cell_type": "code",
   "execution_count": 6,
   "metadata": {},
   "outputs": [
    {
     "ename": "NameError",
     "evalue": "name 'a_2' is not defined",
     "output_type": "error",
     "traceback": [
      "\u001b[1;31m---------------------------------------------------------------------------\u001b[0m",
      "\u001b[1;31mNameError\u001b[0m                                 Traceback (most recent call last)",
      "\u001b[1;32m<ipython-input-6-7cb7ffa5a39f>\u001b[0m in \u001b[0;36m<module>\u001b[1;34m()\u001b[0m\n\u001b[0;32m      6\u001b[0m \u001b[0mncols\u001b[0m \u001b[1;33m=\u001b[0m \u001b[1;36m1\u001b[0m\u001b[1;33m\u001b[0m\u001b[0m\n\u001b[0;32m      7\u001b[0m \u001b[0mpicsize\u001b[0m \u001b[1;33m=\u001b[0m \u001b[1;36m20\u001b[0m\u001b[1;33m\u001b[0m\u001b[0m\n\u001b[1;32m----> 8\u001b[1;33m \u001b[0mfig\u001b[0m\u001b[1;33m,\u001b[0m \u001b[0maxes\u001b[0m \u001b[1;33m=\u001b[0m \u001b[0mplt\u001b[0m\u001b[1;33m.\u001b[0m\u001b[0msubplots\u001b[0m\u001b[1;33m(\u001b[0m\u001b[0mnrows\u001b[0m\u001b[1;33m=\u001b[0m\u001b[0mnrows\u001b[0m\u001b[1;33m,\u001b[0m \u001b[0mncols\u001b[0m\u001b[1;33m=\u001b[0m\u001b[0mncols\u001b[0m\u001b[1;33m,\u001b[0m \u001b[0mfigsize\u001b[0m\u001b[1;33m=\u001b[0m\u001b[1;33m(\u001b[0m\u001b[0mncols\u001b[0m\u001b[1;33m*\u001b[0m\u001b[1;33m(\u001b[0m\u001b[0mpicsize\u001b[0m\u001b[1;33m)\u001b[0m\u001b[1;33m*\u001b[0m\u001b[1;33m(\u001b[0m\u001b[0ma_2\u001b[0m\u001b[1;33m/\u001b[0m\u001b[0mb_2\u001b[0m\u001b[1;33m)\u001b[0m\u001b[1;33m,\u001b[0m\u001b[0mnrows\u001b[0m\u001b[1;33m*\u001b[0m\u001b[0mpicsize\u001b[0m\u001b[1;33m)\u001b[0m\u001b[1;33m)\u001b[0m\u001b[1;33m\u001b[0m\u001b[0m\n\u001b[0m\u001b[0;32m      9\u001b[0m \u001b[1;33m\u001b[0m\u001b[0m\n\u001b[0;32m     10\u001b[0m \u001b[0mx_scatter\u001b[0m \u001b[1;33m=\u001b[0m \u001b[1;36m0.1\u001b[0m\u001b[1;33m\u001b[0m\u001b[0m\n",
      "\u001b[1;31mNameError\u001b[0m: name 'a_2' is not defined"
     ]
    }
   ],
   "source": [
    "half_number_of_bodies = 50\n",
    "\n",
    "coordinates_array = np.zeros((2*half_number_of_bodies, 5))\n",
    "\n",
    "nrows = 1\n",
    "ncols = 1\n",
    "picsize = 20\n",
    "fig, axes = plt.subplots(nrows=nrows, ncols=ncols, figsize=(ncols*(picsize)*(a_2/b_2),nrows*picsize))\n",
    "\n",
    "x_scatter = 0.1\n",
    "y_scatter = 0.1\n",
    "for i in range(0, half_number_of_bodies):\n",
    "\n",
    "    # X coordinates\n",
    "    coordinates_array[i,1] = random.random() * a_2 * sign_choose()\n",
    "    # Y coordinates\n",
    "    coordinates_array[i,2] = b_2/a_2 * np.sqrt(a_2**2 - coordinates_array[i,1]**2) * sign_choose()\n",
    "    \n",
    "for i in range(half_number_of_bodies, 2*half_number_of_bodies):\n",
    "    \n",
    "    # Y coordinates\n",
    "    coordinates_array[i,2] = random.random() * b_2 * sign_choose()\n",
    "    # X coordinates\n",
    "    coordinates_array[i,1] = a_2/b_2 * np.sqrt(b_2**2 - coordinates_array[i,2]**2) * sign_choose()\n",
    "    \n",
    "# Scatter particles\n",
    "norm = 2.3\n",
    "for i in range(0, 2*half_number_of_bodies):\n",
    "    \n",
    "    coordinates_array[i,0] = random.random() * 1e15\n",
    "    coordinates_array[i,1] += random.random() * x_scatter * a_2 * sign_choose() - (a_2 - (1+ecc_2) * a_2)\n",
    "    coordinates_array[i,2] += random.random() * y_scatter * b_2 * sign_choose()\n",
    "    \n",
    "    # X velocities\n",
    "    if(coordinates_array[i,2] < 0):\n",
    "        coordinates_array[i,3] = -np.sqrt(np.abs(4 * np.pi * np.pi * (2/coordinates_array[i,1]) - 1/a_2))/norm\n",
    "    else:\n",
    "        coordinates_array[i,3] = np.sqrt(np.abs(4 * np.pi * np.pi * (2/coordinates_array[i,1]) - 1/a_2))/norm\n",
    "    \n",
    "    # Y velocities\n",
    "    if(coordinates_array[i,1] < 0):\n",
    "        coordinates_array[i,4] = np.sqrt(np.abs(4 * np.pi * np.pi * (2/coordinates_array[i,2]) - 1/a_2))/norm\n",
    "    else:\n",
    "        coordinates_array[i,4] = -np.sqrt(np.abs(4 * np.pi * np.pi * (2/coordinates_array[i,2]) - 1/a_2))/norm\n",
    "\n",
    "# Save to dat file\n",
    "#np.savetxt('small_objects.dat', coordinates_array, delimiter='\\t')\n",
    "    \n",
    "axes.scatter(coordinates_array[::steps,1], coordinates_array[::steps,2])\n",
    "axes.scatter(coordinates_array[::steps,3], coordinates_array[::steps,4])\n",
    "plt.show()"
   ]
  },
  {
   "cell_type": "code",
   "execution_count": null,
   "metadata": {},
   "outputs": [],
   "source": []
  }
 ],
 "metadata": {
  "kernelspec": {
   "display_name": "Python 3",
   "language": "python",
   "name": "python3"
  },
  "language_info": {
   "codemirror_mode": {
    "name": "ipython",
    "version": 3
   },
   "file_extension": ".py",
   "mimetype": "text/x-python",
   "name": "python",
   "nbconvert_exporter": "python",
   "pygments_lexer": "ipython3",
   "version": "3.6.0"
  }
 },
 "nbformat": 4,
 "nbformat_minor": 2
}
